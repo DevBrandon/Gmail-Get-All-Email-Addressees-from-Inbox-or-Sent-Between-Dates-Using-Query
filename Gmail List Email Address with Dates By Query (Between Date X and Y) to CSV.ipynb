{
 "cells": [
  {
   "cell_type": "markdown",
   "metadata": {},
   "source": [
    "# Install the python google api client\n",
    "### API code and install instructions link https://github.com/googleapis/google-api-python-client\n",
    "### See API docs link below"
   ]
  },
  {
   "cell_type": "code",
   "execution_count": null,
   "metadata": {},
   "outputs": [],
   "source": [
    "!pip install --upgrade google-api-python-client google-auth-httplib2 google-auth-oauthlib"
   ]
  },
  {
   "cell_type": "code",
   "execution_count": null,
   "metadata": {},
   "outputs": [],
   "source": [
    "from __future__ import print_function\n",
    "import pickle\n",
    "import os.path\n",
    "from googleapiclient.discovery import build\n",
    "from google_auth_oauthlib.flow import InstalledAppFlow\n",
    "from google.auth.transport.requests import Request"
   ]
  },
  {
   "cell_type": "markdown",
   "metadata": {},
   "source": [
    "# Create the service needed to get access to gmail\n",
    "## This will open a new tab and ask for access to your gmail account and create a token.pickle that you may need to delete should you change the SCOPES variable\n",
    "## You should also have gotten a credentials.json from https://developers.google.com/gmail/api/quickstart/python\n",
    "### Note on token.pickle: The file token.pickle stores the user's access and refresh tokens, and is created automatically when the authorization flow completes for the first time."
   ]
  },
  {
   "cell_type": "code",
   "execution_count": null,
   "metadata": {},
   "outputs": [],
   "source": [
    "# If modifying these scopes, delete the file token.pickle.\n",
    "SCOPES = ['https://www.googleapis.com/auth/gmail.readonly']\n",
    "\"\"\"Shows basic usage of the Gmail API.\n",
    "Lists the user's Gmail labels.\n",
    "\"\"\"\n",
    "creds = None\n",
    "# The file token.pickle stores the user's access and refresh tokens, and is\n",
    "# created automatically when the authorization flow completes for the first\n",
    "# time.\n",
    "if os.path.exists('token.pickle'):\n",
    "    with open('token.pickle', 'rb') as token:\n",
    "        creds = pickle.load(token)\n",
    "# If there are no (valid) credentials available, let the user log in.\n",
    "if not creds or not creds.valid:\n",
    "    if creds and creds.expired and creds.refresh_token:\n",
    "        creds.refresh(Request())\n",
    "    else:\n",
    "        flow = InstalledAppFlow.from_client_secrets_file(\n",
    "            'credentials.json', SCOPES)\n",
    "        creds = flow.run_local_server()\n",
    "    # Save the credentials for the next run\n",
    "    with open('token.pickle', 'wb') as token:\n",
    "        pickle.dump(creds, token)\n",
    "\n",
    "service = build('gmail', 'v1', credentials=creds)\n",
    "\n",
    "# Call the Gmail API\n",
    "results = service.users().labels().list(userId='me').execute()\n",
    "labels = results.get('labels', [])\n",
    "\n",
    "if not labels:\n",
    "    print('No labels found.')\n",
    "else:\n",
    "    print('Labels:')\n",
    "    for label in labels:\n",
    "        print(label['name'])"
   ]
  },
  {
   "cell_type": "markdown",
   "metadata": {},
   "source": [
    "# Google Gmail API v1\n",
    "## https://developers.google.com/gmail/api/v1/reference/users\n",
    "### Sample Query for getting mail between two dates \"in:sent after:2018/11/01 before: 2019/04/01\""
   ]
  },
  {
   "cell_type": "code",
   "execution_count": null,
   "metadata": {},
   "outputs": [],
   "source": [
    "# https://developers.google.com/gmail/api/guides/filtering\n",
    "# Warning: All dates used in the search query are interpretted as midnight on that date in the PST timezone. \n",
    "# To specify accurate dates for other timezones pass the value in seconds instead: \n",
    "# ?q=in:sent after:1388552400 before:1391230800\n",
    "# GET https://www.googleapis.com/gmail/v1/users/me/messages?q=in:sent after:2014/01/01 before:2014/02/01\n",
    "\n",
    "# results = service.users().messages().list(userId='me').execute()\n",
    "# print(results)\n",
    "\n",
    "def GetMessage(service, user_id, msg_id, snippet = True):\n",
    "  \"\"\"Get a Message with given ID.\n",
    "    https://developers.google.com/gmail/api/v1/reference/users/messages/get\n",
    "  Args:\n",
    "    service: Authorized Gmail API service instance.\n",
    "    user_id: User's email address. The special value \"me\"\n",
    "    can be used to indicate the authenticated user.\n",
    "    msg_id: The ID of the Message required.\n",
    "\n",
    "  Returns:\n",
    "    A Message.\n",
    "  \"\"\"\n",
    "  try:\n",
    "    message = service.users().messages().get(userId=user_id, id=msg_id).execute()\n",
    "    if snippet:\n",
    "        print('Message snippet: %s' % message['snippet'])\n",
    "    \n",
    "    return message\n",
    "  except errors.HttpError, error:\n",
    "    print('An error occurred: %s' % error)\n",
    "\n",
    "\n",
    "def ListMessagesMatchingQuery(service, user_id, query=''):\n",
    "  \"\"\"\n",
    "  List all Messages of the user's mailbox matching the query.\n",
    "\n",
    "  Args:\n",
    "    service: Authorized Gmail API service instance.\n",
    "    user_id: User's email address. The special value \"me\"\n",
    "    can be used to indicate the authenticated user.\n",
    "    query: String used to filter messages returned.\n",
    "    Eg.- 'from:user@some_domain.com' for Messages from a particular sender.\n",
    "\n",
    "  Returns:\n",
    "    List of Messages that match the criteria of the query. Note that the\n",
    "    returned list contains Message IDs, you must use get with the\n",
    "    appropriate ID to get the details of a Message.\n",
    "  \"\"\"\n",
    "  try:\n",
    "    response = service.users().messages().list(userId=user_id,\n",
    "                                               q=query).execute()\n",
    "    messages = []\n",
    "    if 'messages' in response:\n",
    "      messages.extend(response['messages'])\n",
    "\n",
    "    while 'nextPageToken' in response:\n",
    "      page_token = response['nextPageToken']\n",
    "      response = service.users().messages().list(userId=user_id, q=query,\n",
    "                                         pageToken=page_token).execute()\n",
    "      messages.extend(response['messages'])\n",
    "\n",
    "    return messages\n",
    "  except errors.HttpError, error:\n",
    "    print('An error occurred: %s' % error)\n",
    "#Sample Query in:sent after:2018/11/01 before: 2019/04/01 \n",
    "messages = ListMessagesMatchingQuery(service, 'me', 'in:inbox after:2018/11/01') #Gets all emails sent after Nov 1\n",
    "print(messages)"
   ]
  },
  {
   "cell_type": "markdown",
   "metadata": {},
   "source": [
    "### Regex for finding emails"
   ]
  },
  {
   "cell_type": "code",
   "execution_count": null,
   "metadata": {},
   "outputs": [],
   "source": [
    "import re\n",
    "pattern = re.compile(\"[A-Za-z0-9]+@[a-zA-Z0-9\\.]+\")"
   ]
  },
  {
   "cell_type": "code",
   "execution_count": null,
   "metadata": {
    "scrolled": false
   },
   "outputs": [],
   "source": [
    "import datetime\n",
    "# 16badc5f0dbdd207 - this is just a sample email id acicated with my current user,\n",
    "# you can print out your own for testing\n",
    "message = GetMessage(service, 'me', '16baecd1a4bb2a28')\n",
    "email = \"\"\n",
    "date = datetime.datetime.fromtimestamp(int(message['internalDate'][:10])).strftime('%Y-%m-%d %H:%M:%S')\n",
    "for i in range(len(message['payload']['headers'])): \n",
    "    email = message['payload']['headers'][i]['value']\n",
    "    if pattern.match(email):\n",
    "        if (email != \"mailroomstaff@gh.cs.umd.edu\" \n",
    "        and email != \"notifications@packages.cs.umd.edu\" \n",
    "        and email != \"mailroomstaff@cs.umd.edu\"):\n",
    "            print(\"**********************\\n\")\n",
    "            print(email)\n",
    "            print(\"----------------------\\n\")"
   ]
  },
  {
   "cell_type": "code",
   "execution_count": null,
   "metadata": {},
   "outputs": [],
   "source": [
    "def remove_surrounding(string, uni=True):\n",
    "    if uni:\n",
    "        string = unicodedata.normalize('NFKD', string).encode('ascii','ignore')\n",
    "    string = string.split('<', 1)[-1]\n",
    "    string = string.replace(\">\",\"\")\n",
    "    string = string.lstrip() \n",
    "    return string"
   ]
  },
  {
   "cell_type": "markdown",
   "metadata": {},
   "source": [
    "# This part may take some time, go grab a coffee :)"
   ]
  },
  {
   "cell_type": "code",
   "execution_count": null,
   "metadata": {
    "scrolled": true
   },
   "outputs": [],
   "source": [
    "from __future__ import division\n",
    "import unicodedata\n",
    "import math\n",
    "len_messages = len(messages)\n",
    "mod_value = math.floor(len_messages/10)\n",
    "all_emails = []\n",
    "def filter_header(message_arr):\n",
    "    f = open(\"gmail_address_extractor/email_filter_test.txt\",\"w+\")\n",
    "    f.write(\"Processing: \" + str(len(message_arr)) + \" emails\")\n",
    "    print(\"Processing: \" + str(len(message_arr)) + \" emails\")\n",
    "    j = 0\n",
    "    for message in message_arr:\n",
    "        email = GetMessage(service, 'me', message['id'], False)\n",
    "        len_message = len(email['payload']['headers'])\n",
    "        f.write(\"Length of header array: \"+ str(len_message) + \"\\n\")\n",
    "        for i in range(len_message):\n",
    "            if pattern.match(email['payload']['headers'][i]['value']):\n",
    "                if (email['payload']['headers'][i]['value'] != \"mailroomstaff@gh.cs.umd.edu\" \n",
    "                and email['payload']['headers'][i]['value'] != \"notifications@packages.cs.umd.edu\" \n",
    "                and email['payload']['headers'][i]['value'] != \"mailroomstaff@cs.umd.edu\"\n",
    "                and email['payload']['headers'][i]['value'] != 'bounce@cs.umd.edu'):\n",
    "                    f.write(\"**********************\\n\")\n",
    "                    f.write(email['payload']['headers'][i]['value'])\n",
    "                    all_emails.append((remove_surrounding(email['payload']['headers'][i]['value']),datetime.datetime.fromtimestamp(int(email['internalDate'][:10])).strftime('%Y-%m-%d %H:%M:%S')))\n",
    "                    f.write(\"\\n----------------------\\n\")\n",
    "        j += 1\n",
    "        if j % mod_value == 0:\n",
    "            f.write(str(math.ceil((j/len_messages)*100)) + \"% there\\n\")\n",
    "            print(str(math.ceil((j/len_messages)*100)) + \"% there\\n\")\n",
    "    f.close() \n",
    "    print(\"done\")\n",
    "\n",
    "filter_header(messages)"
   ]
  },
  {
   "cell_type": "markdown",
   "metadata": {},
   "source": [
    "# Now it's time to create a CSV with all the sent emails\n",
    "\n",
    "### Lets make sure that our expected output is correct"
   ]
  },
  {
   "cell_type": "code",
   "execution_count": null,
   "metadata": {
    "scrolled": true
   },
   "outputs": [],
   "source": [
    "print(all_emails)"
   ]
  },
  {
   "cell_type": "code",
   "execution_count": null,
   "metadata": {},
   "outputs": [],
   "source": [
    "new_all_emails = []\n",
    "for email in all_emails:\n",
    "    if \",\" in email[0]:\n",
    "        new_email = re.split(',',email[0])\n",
    "        new_email = [remove_surrounding(new_email_index, False) for new_email_index in new_email]\n",
    "        new_email = [(new_email_index,email[1]) for new_email_index in new_email]\n",
    "        new_all_emails.extend(new_email)\n",
    "    else:\n",
    "        new_all_emails.append((remove_surrounding(email[0], False), email[1]))\n",
    "all_emails = new_all_emails\n",
    "new_all_emails = None"
   ]
  },
  {
   "cell_type": "code",
   "execution_count": null,
   "metadata": {},
   "outputs": [],
   "source": [
    "from __future__ import division\n",
    "import csv\n",
    "import math\n",
    "len_messages = len(messages)\n",
    "mod_value = math.floor(len_messages/10)\n",
    "checker = {}\n",
    "# print(mod_value, len_messages)\n",
    "with open('gmail_address_extractor/Nov1TillNow.csv', 'wb') as csvfile:\n",
    "    print(\"starting to write to CSV. Processing: \" + str(len_messages) + \" emails \\n\")\n",
    "    filewriter = csv.writer(csvfile, delimiter=',',\n",
    "                            quotechar='|', quoting=csv.QUOTE_MINIMAL)\n",
    "    filewriter.writerow(['Email', 'Date'])\n",
    "    i = 0\n",
    "    for email in all_emails:\n",
    "        if email[0] not in checker:\n",
    "            filewriter.writerow([email[0], email[1]])\n",
    "            checker[email[0]] = True\n",
    "#         filewriter.writerow([GetMessage(service, 'me',mess['id'], False)['payload']['headers'][4]['value'], remove_surrounding(GetMessage(service, 'me',mess['id'], False)['payload']['headers'][4]['value'])])\n",
    "        i += 1\n",
    "        if i % mod_value == 0:\n",
    "            print(str(math.ceil((i/len_messages)*100)) + \"% there\\n\")\n",
    "    print(\"done\")\n"
   ]
  },
  {
   "cell_type": "markdown",
   "metadata": {},
   "source": [
    "# Make a comma seprated list that is not a CSV for easy copy paste into a mail client"
   ]
  },
  {
   "cell_type": "code",
   "execution_count": null,
   "metadata": {},
   "outputs": [],
   "source": [
    "f = open(\"gmail_address_extractor/email_easy_copy.txt\",\"w+\")\n",
    "checker = {}\n",
    "for email in all_emails:\n",
    "    if email not in checker:\n",
    "        print(email[0] + \", \" + email[1] + \"\\n\")\n",
    "        f.write(email[0] + \", \") #keep this file copy paste email client friendly\n",
    "        checker[email[0]] = True\n",
    "f.close()"
   ]
  },
  {
   "cell_type": "code",
   "execution_count": null,
   "metadata": {},
   "outputs": [],
   "source": []
  }
 ],
 "metadata": {
  "kernelspec": {
   "display_name": "Python 2",
   "language": "python",
   "name": "python2"
  },
  "language_info": {
   "codemirror_mode": {
    "name": "ipython",
    "version": 2
   },
   "file_extension": ".py",
   "mimetype": "text/x-python",
   "name": "python",
   "nbconvert_exporter": "python",
   "pygments_lexer": "ipython2",
   "version": "2.7.15"
  }
 },
 "nbformat": 4,
 "nbformat_minor": 2
}
